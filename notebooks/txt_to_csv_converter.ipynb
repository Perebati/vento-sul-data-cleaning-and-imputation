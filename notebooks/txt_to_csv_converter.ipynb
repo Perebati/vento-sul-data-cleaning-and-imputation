{
 "cells": [
  {
   "cell_type": "markdown",
   "id": "dba524a0",
   "metadata": {},
   "source": [
    "# Conversor de Arquivos TXT para CSV\n",
    "\n",
    "Este notebook converte todos os arquivos .txt do diretório `raw_data` para o formato .csv no diretório `converted_csv_data`.\n",
    "\n",
    "Os arquivos contêm dados de vento com colunas separadas por ponto e vírgula (;) que serão convertidas para o formato CSV padrão com vírgulas.\n",
    "\n",
    "## Arquivos a serem convertidos:\n",
    "- Dir.txt (Direção do vento)\n",
    "- U.txt (Componente U do vento)\n",
    "- V.txt (Componente V do vento) \n",
    "- W.txt (Componente W do vento)\n",
    "- WS.txt (Velocidade do vento)"
   ]
  },
  {
   "cell_type": "markdown",
   "id": "9f4d65f9",
   "metadata": {},
   "source": [
    "#### 1. Importa as libs."
   ]
  },
  {
   "cell_type": "code",
   "execution_count": 8,
   "id": "a0379219",
   "metadata": {},
   "outputs": [],
   "source": [
    "import pandas as pd\n",
    "import os\n",
    "from pathlib import Path\n",
    "import glob"
   ]
  },
  {
   "cell_type": "markdown",
   "id": "fe1af729",
   "metadata": {},
   "source": [
    "#### 2. Configura o caminho dos diretórios"
   ]
  },
  {
   "cell_type": "code",
   "execution_count": 9,
   "id": "9cafb554",
   "metadata": {},
   "outputs": [
    {
     "name": "stdout",
     "output_type": "stream",
     "text": [
      "✓ Diretório ../raw_data encontrado\n"
     ]
    }
   ],
   "source": [
    "# Definir diretórios\n",
    "raw_data_dir = Path(\"../raw_data\")\n",
    "csv_data_dir = Path(\"../converted_csv_data\")\n",
    "\n",
    "# Verificar se o diretório de origem existe\n",
    "if raw_data_dir.exists():\n",
    "    print(f\"✓ Diretório {raw_data_dir} encontrado\")\n",
    "else:\n",
    "    print(f\"✗ Diretório {raw_data_dir} não encontrado\")"
   ]
  },
  {
   "cell_type": "markdown",
   "id": "66bbba42",
   "metadata": {},
   "source": [
    "#### 3. Cria um caminho de output"
   ]
  },
  {
   "cell_type": "code",
   "execution_count": 10,
   "id": "a947593a",
   "metadata": {},
   "outputs": [
    {
     "name": "stdout",
     "output_type": "stream",
     "text": [
      "✓ Diretório ../converted_csv_data criado/encontrado com sucesso\n",
      "\n",
      "Conteúdo atual do diretório ../converted_csv_data:\n",
      "  - U.csv\n",
      "  - Dir.csv\n",
      "  - WS.csv\n",
      "  - V.csv\n",
      "  - W.csv\n"
     ]
    }
   ],
   "source": [
    "# Criar diretório de destino se não existir\n",
    "csv_data_dir.mkdir(exist_ok=True)\n",
    "\n",
    "if csv_data_dir.exists():\n",
    "    print(f\"✓ Diretório {csv_data_dir} criado/encontrado com sucesso\")\n",
    "else:\n",
    "    print(f\"✗ Erro ao criar diretório {csv_data_dir}\")\n",
    "\n",
    "# Listar conteúdo atual do diretório de destino\n",
    "print(f\"\\nConteúdo atual do diretório {csv_data_dir}:\")\n",
    "csv_files = list(csv_data_dir.glob(\"*.csv\"))\n",
    "if csv_files:\n",
    "    for file in csv_files:\n",
    "        print(f\"  - {file.name}\")\n",
    "else:\n",
    "    print(\"  (vazio)\")"
   ]
  },
  {
   "cell_type": "markdown",
   "id": "08871c6a",
   "metadata": {},
   "source": [
    "#### 4. Função de conversão de arquivos"
   ]
  },
  {
   "cell_type": "code",
   "execution_count": 11,
   "id": "956a7631",
   "metadata": {},
   "outputs": [
    {
     "name": "stdout",
     "output_type": "stream",
     "text": [
      "Função de conversão atualizada - valores nulos serão salvos como 'NaN' no CSV!\n"
     ]
    }
   ],
   "source": [
    "import numpy as np\n",
    "\n",
    "def convert_txt_to_csv(txt_file_path, csv_file_path):\n",
    "    \"\"\"\n",
    "    Converte um arquivo TXT com delimitador ';' para CSV com delimitador ','\n",
    "    Trata valores ausentes para serem detectados como NaN pelo pandas\n",
    "    \n",
    "    Args:\n",
    "        txt_file_path (Path): Caminho para o arquivo TXT de origem\n",
    "        csv_file_path (Path): Caminho para o arquivo CSV de destino\n",
    "    \n",
    "    Returns:\n",
    "        bool: True se a conversão foi bem-sucedida, False caso contrário\n",
    "    \"\"\"\n",
    "    try:\n",
    "        # Lista abrangente de valores que devem ser interpretados como NaN\n",
    "        na_values = ['', ' ', '  ', '\\t', '\\n', '\\r', \n",
    "                     'N/A', 'NA', 'n/a', 'na', 'N/a', 'n/A',\n",
    "                     'NULL', 'null', 'Null', 'None', 'none', 'NONE',\n",
    "                     'NaN', 'nan', 'NAN', 'Nan',\n",
    "                     '-', '--', '---', '____', '....',\n",
    "                     '9999', '-9999', '999999', '-999999',\n",
    "                     '999.9', '-999.9', '9999.9', '-9999.9',\n",
    "                     '999.99', '-999.99', '9999.99', '-9999.99']\n",
    "        \n",
    "        # Ler o arquivo TXT com delimitador ';' e tratar valores ausentes\n",
    "        df = pd.read_csv(txt_file_path, \n",
    "                        sep=';', \n",
    "                        encoding='utf-8',\n",
    "                        na_values=na_values,\n",
    "                        keep_default_na=True)\n",
    "        \n",
    "        # Garantir que células vazias sejam convertidas para NaN\n",
    "        df = df.replace(['', ' ', '  '], np.nan)\n",
    "        \n",
    "        # Converter strings que representam valores ausentes em NaN\n",
    "        df = df.replace(na_values, np.nan)\n",
    "        \n",
    "        # Verificar se há valores ausentes após a conversão\n",
    "        missing_count = df.isna().sum().sum()\n",
    "        total_cells = df.shape[0] * df.shape[1]\n",
    "        missing_percentage = (missing_count / total_cells) * 100\n",
    "        \n",
    "        # Salvar como CSV com delimitador ',' e valores nulos como 'NaN'\n",
    "        df.to_csv(csv_file_path, index=False, encoding='utf-8', na_rep='NaN')\n",
    "        \n",
    "        print(f\"✓ {txt_file_path.name} → {csv_file_path.name}\")\n",
    "        print(f\"  └── {missing_count} valores NaN detectados ({missing_percentage:.2f}% do total)\")\n",
    "        return True\n",
    "        \n",
    "    except Exception as e:\n",
    "        print(f\"✗ Erro ao converter {txt_file_path.name}: {str(e)}\")\n",
    "        return False\n",
    "\n",
    "print(\"Função de conversão atualizada - valores nulos serão salvos como 'NaN' no CSV!\")"
   ]
  },
  {
   "cell_type": "markdown",
   "id": "c06bef9b",
   "metadata": {},
   "source": [
    "#### 5. Pega todos o .txt"
   ]
  },
  {
   "cell_type": "code",
   "execution_count": 12,
   "id": "ab8d2828",
   "metadata": {},
   "outputs": [
    {
     "name": "stdout",
     "output_type": "stream",
     "text": [
      "Arquivos TXT encontrados (5):\n",
      "  - V.txt\n",
      "  - W.txt\n",
      "  - WS.txt\n",
      "  - U.txt\n",
      "  - Dir.txt\n"
     ]
    }
   ],
   "source": [
    "# Encontrar todos os arquivos .txt no diretório raw_data\n",
    "txt_files = list(raw_data_dir.glob(\"*.txt\"))\n",
    "\n",
    "print(f\"Arquivos TXT encontrados ({len(txt_files)}):\")\n",
    "for txt_file in txt_files:\n",
    "    print(f\"  - {txt_file.name}\")\n",
    "\n",
    "if not txt_files:\n",
    "    print(\"Nenhum arquivo .txt encontrado no diretório raw_data\")"
   ]
  },
  {
   "cell_type": "markdown",
   "id": "7d198a74",
   "metadata": {},
   "source": [
    "#### 6. Converte cada .txt em um .csv correspondente"
   ]
  },
  {
   "cell_type": "code",
   "execution_count": 13,
   "id": "eca3b6ae",
   "metadata": {},
   "outputs": [
    {
     "name": "stdout",
     "output_type": "stream",
     "text": [
      "Iniciando conversão dos arquivos...\n",
      "\n",
      "✓ V.txt → V.csv\n",
      "  └── 132658 valores NaN detectados (11.76% do total)\n",
      "✓ V.txt → V.csv\n",
      "  └── 132658 valores NaN detectados (11.76% do total)\n",
      "✓ W.txt → W.csv\n",
      "  └── 115011 valores NaN detectados (10.19% do total)\n",
      "✓ W.txt → W.csv\n",
      "  └── 115011 valores NaN detectados (10.19% do total)\n",
      "✓ WS.txt → WS.csv\n",
      "  └── 132658 valores NaN detectados (11.76% do total)\n",
      "✓ WS.txt → WS.csv\n",
      "  └── 132658 valores NaN detectados (11.76% do total)\n",
      "✓ U.txt → U.csv\n",
      "  └── 132658 valores NaN detectados (11.76% do total)\n",
      "✓ U.txt → U.csv\n",
      "  └── 132658 valores NaN detectados (11.76% do total)\n",
      "✓ Dir.txt → Dir.csv\n",
      "  └── 132658 valores NaN detectados (11.76% do total)\n",
      "\n",
      "--- Resumo da Conversão ---\n",
      "✓ Conversões bem-sucedidas: 5\n",
      "✗ Conversões com erro: 0\n",
      "Total de arquivos processados: 5\n",
      "✓ Dir.txt → Dir.csv\n",
      "  └── 132658 valores NaN detectados (11.76% do total)\n",
      "\n",
      "--- Resumo da Conversão ---\n",
      "✓ Conversões bem-sucedidas: 5\n",
      "✗ Conversões com erro: 0\n",
      "Total de arquivos processados: 5\n"
     ]
    }
   ],
   "source": [
    "# Converter cada arquivo TXT para CSV\n",
    "successful_conversions = 0\n",
    "failed_conversions = 0\n",
    "\n",
    "print(\"Iniciando conversão dos arquivos...\\n\")\n",
    "\n",
    "for txt_file in txt_files:\n",
    "    # Criar o nome do arquivo CSV correspondente\n",
    "    csv_file_name = txt_file.stem + \".csv\"\n",
    "    csv_file_path = csv_data_dir / csv_file_name\n",
    "    \n",
    "    # Converter arquivo\n",
    "    if convert_txt_to_csv(txt_file, csv_file_path):\n",
    "        successful_conversions += 1\n",
    "    else:\n",
    "        failed_conversions += 1\n",
    "\n",
    "print(f\"\\n--- Resumo da Conversão ---\")\n",
    "print(f\"✓ Conversões bem-sucedidas: {successful_conversions}\")\n",
    "print(f\"✗ Conversões com erro: {failed_conversions}\")\n",
    "print(f\"Total de arquivos processados: {len(txt_files)}\")"
   ]
  },
  {
   "cell_type": "markdown",
   "id": "f44083de",
   "metadata": {},
   "source": [
    "#### 7. verificação dos resultados"
   ]
  },
  {
   "cell_type": "code",
   "execution_count": 14,
   "id": "d8eb4e02",
   "metadata": {},
   "outputs": [
    {
     "name": "stdout",
     "output_type": "stream",
     "text": [
      "=== VERIFICAÇÃO DOS RESULTADOS ===\n",
      "\n",
      "Arquivos CSV criados (5):\n",
      "  - U.csv (7,061,801 bytes)\n",
      "  - Dir.csv (6,285,692 bytes)\n",
      "  - WS.csv (6,217,749 bytes)\n",
      "  - V.csv (6,778,500 bytes)\n",
      "  - W.csv (6,372,903 bytes)\n",
      "\n",
      "--- Comparação de Estrutura ---\n",
      "\n",
      "Exemplo: U.csv\n",
      "  Dimensões: 41786 linhas × 27 colunas\n",
      "  Colunas: ['DT', 'SODAR-30', 'SODAR-40', 'SODAR-50', 'SODAR-60']...\n",
      "\n",
      "  Primeiras 3 linhas:\n",
      "                 DT  SODAR-30  SODAR-40  SODAR-50  SODAR-60  SODAR-70  SODAR-80  SODAR-90  SODAR-100  SODAR-110  SODAR-120  SODAR-130  SODAR-140  SODAR-150  SODAR-160  SODAR-170  SODAR-180  SODAR-190  SODAR-200  SODAR-210  SODAR-220  SODAR-230  SODAR-240  SODAR-250  SODAR-260  SODAR-270  SODAR-280\n",
      "2021/11/10 17:20:00     -1.16     -2.49     -2.81     -2.70     -2.95     -2.98     -3.11      -3.20      -3.20      -3.10      -2.97      -2.87      -2.80      -2.73      -2.80      -2.79      -2.76      -2.74      -2.74      -2.79      -2.74      -2.82      -2.92      -2.81      -2.74      -3.01\n",
      "2021/11/10 17:30:00     -1.53     -3.05     -3.24     -3.03     -3.25     -3.35     -3.49      -3.56      -3.70      -3.82      -3.92      -4.01      -4.05      -4.08      -4.23      -4.27      -4.37      -4.23      -4.39      -4.10      -4.10      -3.81      -3.89      -4.08      -4.34      -4.71\n",
      "2021/11/10 17:40:00     -0.99     -2.94     -4.04     -3.74     -4.31     -4.48     -4.51      -4.58      -4.54      -4.54      -4.51      -4.50      -4.50      -4.41      -4.29      -4.31      -3.99      -4.12      -3.92      -4.31      -4.12      -4.22      -4.12      -4.07      -4.49      -4.67\n",
      "\n",
      "Conversão concluída! Todos os arquivos estão disponíveis em: ../converted_csv_data\n"
     ]
    }
   ],
   "source": [
    "# Verificar arquivos CSV criados\n",
    "csv_files = list(csv_data_dir.glob(\"*.csv\"))\n",
    "\n",
    "print(\"=== VERIFICAÇÃO DOS RESULTADOS ===\\n\")\n",
    "\n",
    "print(f\"Arquivos CSV criados ({len(csv_files)}):\")\n",
    "for csv_file in csv_files:\n",
    "    file_size = csv_file.stat().st_size\n",
    "    print(f\"  - {csv_file.name} ({file_size:,} bytes)\")\n",
    "\n",
    "print(f\"\\n--- Comparação de Estrutura ---\")\n",
    "\n",
    "# Verificar estrutura de um arquivo como exemplo\n",
    "if csv_files:\n",
    "    example_csv = csv_files[0]\n",
    "    print(f\"\\nExemplo: {example_csv.name}\")\n",
    "    \n",
    "    # Carregar e mostrar informações básicas\n",
    "    df_csv = pd.read_csv(example_csv)\n",
    "    print(f\"  Dimensões: {df_csv.shape[0]} linhas × {df_csv.shape[1]} colunas\")\n",
    "    print(f\"  Colunas: {list(df_csv.columns)[:5]}...\" if len(df_csv.columns) > 5 else f\"  Colunas: {list(df_csv.columns)}\")\n",
    "    \n",
    "    # Mostrar primeiras linhas\n",
    "    print(f\"\\n  Primeiras 3 linhas:\")\n",
    "    print(df_csv.head(3).to_string(index=False))\n",
    "\n",
    "print(f\"\\nConversão concluída! Todos os arquivos estão disponíveis em: {csv_data_dir}\")"
   ]
  }
 ],
 "metadata": {
  "kernelspec": {
   "display_name": ".venv",
   "language": "python",
   "name": "python3"
  },
  "language_info": {
   "codemirror_mode": {
    "name": "ipython",
    "version": 3
   },
   "file_extension": ".py",
   "mimetype": "text/x-python",
   "name": "python",
   "nbconvert_exporter": "python",
   "pygments_lexer": "ipython3",
   "version": "3.10.12"
  }
 },
 "nbformat": 4,
 "nbformat_minor": 5
}
